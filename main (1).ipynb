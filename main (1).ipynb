{
 "cells": [
  {
   "cell_type": "code",
   "execution_count": 47,
   "id": "71a25685-1f6c-4714-a1a6-d16363e0b939",
   "metadata": {},
   "outputs": [],
   "source": [
    "import pandas as pd\n",
    "from pathlib import Path\n",
    "csv_path = Path(\"budget_data.csv\")\n",
    "data_frame = pd.read_csv(csv_path)\n",
    "%matplotlib inline\n"
   ]
  },
  {
   "cell_type": "code",
   "execution_count": 75,
   "id": "832e634c-004f-4261-8776-6789a2eb11e3",
   "metadata": {},
   "outputs": [
    {
     "name": "stdout",
     "output_type": "stream",
     "text": [
      "Financial Anaylysis\n",
      "---------------------------------\n",
      "Total months: 86\n",
      "Total: 38382578\n",
      "Average_change: -2315.1176470588234\n",
      "greatest increase in profits: Feb-2012 $ 1926159.0\n",
      "greatest decrease in profits: Sep-2013 $ -2196167.0\n"
     ]
    }
   ],
   "source": [
    "\n",
    "print(\"Financial Anaylysis\")\n",
    "\n",
    "\n",
    "print(\"---------------------------------\")\n",
    "months_total = data_frame['Date'].count()\n",
    "print(\"Total months:\",months_total)\n",
    "net_total = data_frame['Profit/Losses'].sum()\n",
    "print(\"Total:\", net_total)\n",
    "\n",
    "data_frame['diff'] = data_frame['Profit/Losses'].diff()\n",
    "avg_change = data_frame['diff'].mean()\n",
    "print(\"Average_change:\", avg_change)\n",
    "max_prof_dif = data_frame['diff'].idxmax()\n",
    "max_prof_day = data_frame.loc[max_prof_dif,'Date']\n",
    "biggest_dif = data_frame.loc[max_prof_dif,'diff']\n",
    "print(\"greatest increase in profits:\", max_prof_day,\"$\", biggest_dif)\n",
    "min_prof_dif = data_frame['diff'].idxmin()\n",
    "min_prof_day = data_frame.loc[min_prof_dif,'Date']\n",
    "biggest_min = data_frame.loc[min_prof_dif,'diff']\n",
    "print(\"greatest decrease in profits:\", min_prof_day,\"$\", biggest_min)"
   ]
  },
  {
   "cell_type": "code",
   "execution_count": 43,
   "id": "af0947a2-21d3-4664-ab0b-c153c6406169",
   "metadata": {},
   "outputs": [
    {
     "name": "stdout",
     "output_type": "stream",
     "text": [
      "567769.2588235295\n"
     ]
    }
   ],
   "source": []
  },
  {
   "cell_type": "code",
   "execution_count": null,
   "id": "e1b30dca-9123-4abe-98d5-b779d7806231",
   "metadata": {},
   "outputs": [],
   "source": []
  },
  {
   "cell_type": "code",
   "execution_count": null,
   "id": "5680ebba-e87d-4071-99e4-e6067d6367bd",
   "metadata": {},
   "outputs": [],
   "source": []
  }
 ],
 "metadata": {
  "kernelspec": {
   "display_name": "Python 3 (ipykernel)",
   "language": "python",
   "name": "python3"
  },
  "language_info": {
   "codemirror_mode": {
    "name": "ipython",
    "version": 3
   },
   "file_extension": ".py",
   "mimetype": "text/x-python",
   "name": "python",
   "nbconvert_exporter": "python",
   "pygments_lexer": "ipython3",
   "version": "3.9.13"
  }
 },
 "nbformat": 4,
 "nbformat_minor": 5
}
